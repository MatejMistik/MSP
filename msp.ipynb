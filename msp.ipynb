{
 "cells": [
  {
   "cell_type": "code",
   "execution_count": 17,
   "metadata": {},
   "outputs": [
    {
     "data": {
      "text/html": [
       "<div>\n",
       "<style scoped>\n",
       "    .dataframe tbody tr th:only-of-type {\n",
       "        vertical-align: middle;\n",
       "    }\n",
       "\n",
       "    .dataframe tbody tr th {\n",
       "        vertical-align: top;\n",
       "    }\n",
       "\n",
       "    .dataframe thead th {\n",
       "        text-align: right;\n",
       "    }\n",
       "</style>\n",
       "<table border=\"1\" class=\"dataframe\">\n",
       "  <thead>\n",
       "    <tr style=\"text-align: right;\">\n",
       "      <th></th>\n",
       "      <th>Unnamed: 0</th>\n",
       "      <th>Praha</th>\n",
       "      <th>Brno</th>\n",
       "      <th>Znojmo</th>\n",
       "      <th>Tišnov</th>\n",
       "      <th>Rokytnice nad Jizerou</th>\n",
       "      <th>Jablunkov</th>\n",
       "      <th>Dolní Věstonice</th>\n",
       "      <th>okolí studenta</th>\n",
       "    </tr>\n",
       "  </thead>\n",
       "  <tbody>\n",
       "    <tr>\n",
       "      <th>0</th>\n",
       "      <td>počet respondentů</td>\n",
       "      <td>1327.0</td>\n",
       "      <td>915.0</td>\n",
       "      <td>681.0</td>\n",
       "      <td>587.0</td>\n",
       "      <td>284.0</td>\n",
       "      <td>176.0</td>\n",
       "      <td>215.0</td>\n",
       "      <td>20.0</td>\n",
       "    </tr>\n",
       "    <tr>\n",
       "      <th>1</th>\n",
       "      <td>zimní čas</td>\n",
       "      <td>510.0</td>\n",
       "      <td>324.0</td>\n",
       "      <td>302.0</td>\n",
       "      <td>257.0</td>\n",
       "      <td>147.0</td>\n",
       "      <td>66.0</td>\n",
       "      <td>87.0</td>\n",
       "      <td>5.0</td>\n",
       "    </tr>\n",
       "    <tr>\n",
       "      <th>2</th>\n",
       "      <td>letní čas</td>\n",
       "      <td>352.0</td>\n",
       "      <td>284.0</td>\n",
       "      <td>185.0</td>\n",
       "      <td>178.0</td>\n",
       "      <td>87.0</td>\n",
       "      <td>58.0</td>\n",
       "      <td>65.0</td>\n",
       "      <td>5.0</td>\n",
       "    </tr>\n",
       "    <tr>\n",
       "      <th>3</th>\n",
       "      <td>střídání časů</td>\n",
       "      <td>257.0</td>\n",
       "      <td>178.0</td>\n",
       "      <td>124.0</td>\n",
       "      <td>78.0</td>\n",
       "      <td>44.0</td>\n",
       "      <td>33.0</td>\n",
       "      <td>31.0</td>\n",
       "      <td>5.0</td>\n",
       "    </tr>\n",
       "    <tr>\n",
       "      <th>4</th>\n",
       "      <td>nemá názor</td>\n",
       "      <td>208.0</td>\n",
       "      <td>129.0</td>\n",
       "      <td>70.0</td>\n",
       "      <td>74.0</td>\n",
       "      <td>6.0</td>\n",
       "      <td>19.0</td>\n",
       "      <td>32.0</td>\n",
       "      <td>5.0</td>\n",
       "    </tr>\n",
       "  </tbody>\n",
       "</table>\n",
       "</div>"
      ],
      "text/plain": [
       "          Unnamed: 0   Praha   Brno  Znojmo  Tišnov  Rokytnice nad Jizerou  Jablunkov  Dolní Věstonice  okolí studenta\n",
       "0  počet respondentů  1327.0  915.0   681.0   587.0                  284.0      176.0            215.0            20.0\n",
       "1          zimní čas   510.0  324.0   302.0   257.0                  147.0       66.0             87.0             5.0\n",
       "2          letní čas   352.0  284.0   185.0   178.0                   87.0       58.0             65.0             5.0\n",
       "3      střídání časů   257.0  178.0   124.0    78.0                   44.0       33.0             31.0             5.0\n",
       "4         nemá názor   208.0  129.0    70.0    74.0                    6.0       19.0             32.0             5.0"
      ]
     },
     "execution_count": 17,
     "metadata": {},
     "output_type": "execute_result"
    }
   ],
   "source": [
    "import pandas as pd\n",
    "from scipy import stats\n",
    "\n",
    "pd.set_option('display.max_columns', 500)\n",
    "pd.set_option('display.width', 1000)\n",
    "\n",
    "df = pd.read_excel('./MSP_Projekt_2022-23_Zadani_St_8 (1).xlsx', sheet_name='Úkol 1')\n",
    "\n",
    "df2 = df.copy() \n",
    "#\n",
    "\n",
    "# drop nan values\n",
    "\n",
    "df = df.dropna()\n",
    "\n",
    "df\n"
   ]
  },
  {
   "cell_type": "markdown",
   "metadata": {},
   "source": [
    "# BOD 1"
   ]
  },
  {
   "cell_type": "markdown",
   "metadata": {},
   "source": [
    "## 1.a\n",
    "\n",
    "H0 : zimny cas je rovnaky pre vsetky mesta\n",
    "H1 : zimny cas je rozny pre vsetky mesta"
   ]
  },
  {
   "cell_type": "code",
   "execution_count": 39,
   "metadata": {},
   "outputs": [
    {
     "name": "stdout",
     "output_type": "stream",
     "text": [
      "0.4038049940546968\n",
      "['počet respondentů' 1327.0 915.0 681.0 587.0 284.0 176.0 215.0 20.0]\n",
      "[535.8492271105827, 369.48156956004755, 274.9912009512485, 237.033531510107, 114.68061831153389, 71.06967895362664, 86.8180737217598, 8.076099881093935]\n",
      "21.82208429188689\n",
      "0.0027261305392118095\n",
      "H0 is rejected\n"
     ]
    }
   ],
   "source": [
    "# A\n",
    "\n",
    "alpha = 0.05\n",
    "\n",
    "m = 8\n",
    "q = 1\n",
    "k = m - q - 1\n",
    "\n",
    "# sum of first row\n",
    "\n",
    "\n",
    "\n",
    "\n",
    "\n",
    "sumForEveryRow = df.sum(axis=1,numeric_only=True)\n",
    "\n",
    "p = sumForEveryRow[1]/ sumForEveryRow[0]\n",
    "print(p)\n",
    "values = df.iloc[0].values\n",
    "\n",
    "print(values)\n",
    "# create list of expected values for every column\n",
    "\n",
    "expectedValues = []\n",
    "for i in range(1,9):\n",
    "    expectedValues.append(values[i] * p)\n",
    "print(expectedValues)\n",
    "\n",
    "\n",
    "T, p = stats.chisquare(f_obs = df.iloc[1].values[1:], f_exp = expectedValues)\n",
    "\n",
    "print(T)\n",
    "print(p)\n",
    "\n",
    "print('H0 is rejected' if p < alpha else 'H0 is not rejected')\n",
    "\n",
    "# B - letny , C - striedanie casov\n",
    "\n",
    "\n",
    "\n"
   ]
  },
  {
   "cell_type": "code",
   "execution_count": null,
   "metadata": {},
   "outputs": [],
   "source": [
    "#D, E nova tabula bez okolia studenta , len 3 hodnoty\n",
    "\n",
    "\n",
    "\n",
    "''' sumForEveryRow = df.sum(axis=1,numeric_only=True)\n",
    "\n",
    "p = sumForEveryRow[1]/ sumForEveryRow[0]\n",
    "print(p)\n",
    "values = df.iloc[0].values\n",
    "\n",
    "print(values)\n",
    "# create list of expected values for every column\n",
    "\n",
    "expectedValues = []\n",
    "for i in range(1,9):\n",
    "    expectedValues.append(values[i] * p)\n",
    "print(expectedValues)\n",
    "\n",
    "\n",
    "T, p = stats.chisquare(f_obs = df.iloc[1].values[1:], f_exp = expectedValues)\n",
    "\n",
    "print(T)\n",
    "print(p)\n",
    "\n",
    "print('H0 is rejected' if p < alpha else 'H0 is not rejected') '''\n",
    "\n",
    "\n"
   ]
  },
  {
   "cell_type": "markdown",
   "metadata": {},
   "source": [
    "## F"
   ]
  },
  {
   "cell_type": "code",
   "execution_count": null,
   "metadata": {},
   "outputs": [],
   "source": [
    "# F pre rozdelenie 3 miest porovnanie s okolim studenta\n",
    "\n",
    "# T1, p1 = stats.ttest_ind(df[vetsi mesta], df[okolie studenta])\n",
    "\n",
    "T1, p1 = stats.ttest_ind(df.iloc[1].values[1:], df.iloc[2].values[1:], equal_var=False)\n",
    "\n",
    "print(T1,p1)\n",
    "print(\"najvacsi korelacia je medzi 3 miestami a okolim studenta\")"
   ]
  },
  {
   "cell_type": "markdown",
   "metadata": {},
   "source": [
    "# 2"
   ]
  },
  {
   "cell_type": "code",
   "execution_count": null,
   "metadata": {},
   "outputs": [],
   "source": [
    "import pandas as pd\n",
    "import numpy as np\n",
    "import statsmodels.api as sm\n",
    "import matplotlib.pyplot as plt\n",
    "\n",
    "''' xi =\n",
    "\n",
    "yi = \n",
    "\n",
    "zi = \n",
    "\n",
    "F = np.column_stack((xi, yi, zi))\n",
    "\n",
    "F = sm.add_constant(F)\n",
    "\n",
    "\n",
    "\n",
    "model = sm.OLS(y, F).fit()\n",
    "print(model.summary()) '''"
   ]
  }
 ],
 "metadata": {
  "kernelspec": {
   "display_name": "Python 3.9.13 ('base')",
   "language": "python",
   "name": "python3"
  },
  "language_info": {
   "codemirror_mode": {
    "name": "ipython",
    "version": 3
   },
   "file_extension": ".py",
   "mimetype": "text/x-python",
   "name": "python",
   "nbconvert_exporter": "python",
   "pygments_lexer": "ipython3",
   "version": "3.9.13"
  },
  "orig_nbformat": 4,
  "vscode": {
   "interpreter": {
    "hash": "d7288e82646d3164eca24130947288f8779d11454649f2c02a5dfc42af7f324c"
   }
  }
 },
 "nbformat": 4,
 "nbformat_minor": 2
}
