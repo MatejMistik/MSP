{
 "cells": [
  {
   "cell_type": "code",
   "execution_count": 83,
   "metadata": {},
   "outputs": [
    {
     "data": {
      "text/html": [
       "<div>\n",
       "<style scoped>\n",
       "    .dataframe tbody tr th:only-of-type {\n",
       "        vertical-align: middle;\n",
       "    }\n",
       "\n",
       "    .dataframe tbody tr th {\n",
       "        vertical-align: top;\n",
       "    }\n",
       "\n",
       "    .dataframe thead th {\n",
       "        text-align: right;\n",
       "    }\n",
       "</style>\n",
       "<table border=\"1\" class=\"dataframe\">\n",
       "  <thead>\n",
       "    <tr style=\"text-align: right;\">\n",
       "      <th></th>\n",
       "      <th>Unnamed: 0</th>\n",
       "      <th>Vetsi_mesta</th>\n",
       "      <th>Mala_mesta</th>\n",
       "      <th>obce</th>\n",
       "      <th>okolí studenta</th>\n",
       "    </tr>\n",
       "  </thead>\n",
       "  <tbody>\n",
       "    <tr>\n",
       "      <th>0</th>\n",
       "      <td>počet respondentů</td>\n",
       "      <td>2242</td>\n",
       "      <td>1268</td>\n",
       "      <td>675</td>\n",
       "      <td>20.0</td>\n",
       "    </tr>\n",
       "    <tr>\n",
       "      <th>1</th>\n",
       "      <td>zimní čas</td>\n",
       "      <td>834</td>\n",
       "      <td>559</td>\n",
       "      <td>300</td>\n",
       "      <td>5.0</td>\n",
       "    </tr>\n",
       "    <tr>\n",
       "      <th>2</th>\n",
       "      <td>letní čas</td>\n",
       "      <td>636</td>\n",
       "      <td>363</td>\n",
       "      <td>210</td>\n",
       "      <td>5.0</td>\n",
       "    </tr>\n",
       "    <tr>\n",
       "      <th>3</th>\n",
       "      <td>střídání časů</td>\n",
       "      <td>435</td>\n",
       "      <td>202</td>\n",
       "      <td>108</td>\n",
       "      <td>5.0</td>\n",
       "    </tr>\n",
       "    <tr>\n",
       "      <th>4</th>\n",
       "      <td>nemá názor</td>\n",
       "      <td>337</td>\n",
       "      <td>144</td>\n",
       "      <td>57</td>\n",
       "      <td>5.0</td>\n",
       "    </tr>\n",
       "  </tbody>\n",
       "</table>\n",
       "</div>"
      ],
      "text/plain": [
       "          Unnamed: 0  Vetsi_mesta  Mala_mesta  obce  okolí studenta\n",
       "0  počet respondentů         2242        1268   675            20.0\n",
       "1          zimní čas          834         559   300             5.0\n",
       "2          letní čas          636         363   210             5.0\n",
       "3      střídání časů          435         202   108             5.0\n",
       "4         nemá názor          337         144    57             5.0"
      ]
     },
     "execution_count": 83,
     "metadata": {},
     "output_type": "execute_result"
    }
   ],
   "source": [
    "import pandas as pd\n",
    "from scipy import stats\n",
    "\n",
    "pd.set_option('display.max_columns', 500)\n",
    "pd.set_option('display.width', 1000)\n",
    "\n",
    "df = pd.read_excel('./MSP_Projekt_2022-23_Zadani_St_8 (1).xlsx', sheet_name='Úkol 1')\n",
    "df = df.dropna()\n",
    "df2 = df.copy() \n",
    "#\n",
    "\n",
    "# drop nan values\n",
    "\n",
    "\n",
    "# merge columns of Praha and Brno\n",
    "\n",
    "df2['Praha'] = df2['Praha'].astype(int)\n",
    "df2['Brno'] = df2['Brno'].astype(int)\n",
    "df2['Praha'] = df2['Praha'] + df2['Brno']\n",
    "df2 = df2.drop(columns=['Brno'])\n",
    "df2 = df2.rename(columns={'Praha': 'Vetsi_mesta'})\n",
    "\n",
    "# merge columns of Znojmo Tišnov\n",
    "\n",
    "df2['Znojmo'] = df2['Znojmo'].astype(int)\n",
    "df2['Tišnov'] = df2['Tišnov'].astype(int)\n",
    "df2['Znojmo'] = df2['Znojmo'] + df2['Tišnov']\n",
    "df2 = df2.drop(columns=['Tišnov'])\n",
    "df2 = df2.rename(columns={'Znojmo': 'Mala_mesta'})\n",
    "\n",
    "# merge forth, fifth, sixth column\n",
    "\n",
    "df2['Rokytnice nad Jizerou'] = df2['Rokytnice nad Jizerou'].astype(int)\n",
    "df2['Jablunkov'] = df2['Jablunkov'].astype(int)\n",
    "df2['Dolní Věstonice'] = df2['Dolní Věstonice'].astype(int)\n",
    "df2['Rokytnice nad Jizerou'] = df2['Rokytnice nad Jizerou'] + df2['Jablunkov'] + df2['Dolní Věstonice']\n",
    "df2 = df2.drop(columns=['Jablunkov', 'Dolní Věstonice'])\n",
    "df2 = df2.rename(columns={'Rokytnice nad Jizerou': 'obce'})\n",
    "\n",
    "\n",
    "\n",
    "df2\n"
   ]
  },
  {
   "cell_type": "markdown",
   "metadata": {},
   "source": [
    "# BOD 1"
   ]
  },
  {
   "cell_type": "markdown",
   "metadata": {},
   "source": [
    "## 1.a\n",
    "\n",
    "H0 : zimny cas je rovnaky pre vsetky mesta\n",
    "H1 : zimny cas je rozny pre vsetky mesta"
   ]
  },
  {
   "cell_type": "code",
   "execution_count": 84,
   "metadata": {},
   "outputs": [
    {
     "name": "stdout",
     "output_type": "stream",
     "text": [
      "0    4205.0\n",
      "1    1698.0\n",
      "2    1214.0\n",
      "3     750.0\n",
      "4     543.0\n",
      "dtype: float64\n",
      "0.4038049940546968\n",
      "['počet respondentů' 1327.0 915.0 681.0 587.0 284.0 176.0 215.0 20.0]\n",
      "[535.8492271105827, 369.48156956004755, 274.9912009512485, 237.033531510107, 114.68061831153389, 71.06967895362664, 86.8180737217598, 8.076099881093935]\n",
      "21.82208429188689\n",
      "0.0027261305392118095\n",
      "H0 is rejected\n",
      "0.2887039239001189\n",
      "['počet respondentů' 1327.0 915.0 681.0 587.0 284.0 176.0 215.0 20.0]\n",
      "[383.1101070154578, 264.1640903686088, 196.60737217598097, 169.4692033293698, 81.99191438763377, 50.811890606420924, 62.07134363852556, 5.774078478002378]\n",
      "6.695154988874335\n",
      "0.4612950531571278\n",
      "H0 is not rejected\n",
      "0.178359096313912\n",
      "['počet respondentů' 1327.0 915.0 681.0 587.0 284.0 176.0 215.0 20.0]\n",
      "[236.68252080856124, 163.19857312722948, 121.46254458977407, 104.69678953626635, 50.653983353151006, 31.391200951248514, 38.34720570749108, 3.56718192627824]\n",
      "12.88674457308423\n",
      "0.0749163919513014\n",
      "H0 is not rejected\n"
     ]
    }
   ],
   "source": [
    "# A - zimny, B - letny , C - striedanie casov\n",
    "\n",
    "alpha = 0.05\n",
    "\n",
    "m = 8\n",
    "q = 1\n",
    "k = m - q - 1\n",
    "\n",
    "# sum of first row\n",
    "\n",
    "sumForEveryRow = df.sum(axis=1,numeric_only=True)\n",
    "print(sumForEveryRow)\n",
    "\n",
    "# create variable for p1, p2 in cycle\n",
    "\n",
    "# cycle trough list of sumForEveryRow\n",
    "\n",
    "for i in range(1,4):\n",
    "    p = sumForEveryRow[i]/ sumForEveryRow[0]\n",
    "    print(p)\n",
    "    values = df.iloc[0].values\n",
    "\n",
    "    print(values)\n",
    "    # create list of expected values for every column\n",
    "\n",
    "    expectedValues = []\n",
    "    for j in range(1,9):\n",
    "        expectedValues.append(values[j] * p)\n",
    "    print(expectedValues)\n",
    "\n",
    "\n",
    "    T, p = stats.chisquare(f_obs = df.iloc[i].values[1:,], f_exp = expectedValues)\n",
    "\n",
    "    print(T)\n",
    "    print(p)\n",
    "    print('H0 is rejected' if p < alpha else 'H0 is not rejected')\n"
   ]
  },
  {
   "cell_type": "code",
   "execution_count": 85,
   "metadata": {},
   "outputs": [
    {
     "name": "stdout",
     "output_type": "stream",
     "text": [
      "0    4205.0\n",
      "1    1698.0\n",
      "2    1214.0\n",
      "3     750.0\n",
      "4     543.0\n",
      "dtype: float64\n",
      "0.4038049940546968\n",
      "['počet respondentů' 1327.0 915.0 681.0 587.0 284.0 176.0 215.0 20.0]\n",
      "[535.8492271105827, 369.48156956004755, 274.9912009512485, 237.033531510107, 114.68061831153389, 71.06967895362664, 86.8180737217598, 8.076099881093935]\n",
      "21.82208429188689\n",
      "0.0027261305392118095\n",
      "H0 is rejected\n",
      "0.1291319857312723\n",
      "['počet respondentů' 1327.0 915.0 681.0 587.0 284.0 176.0 215.0 20.0]\n",
      "[171.35814506539833, 118.15576694411415, 87.93888228299643, 75.80047562425683, 36.67348394768133, 22.727229488703923, 27.763376932223544, 2.582639714625446]\n",
      "41.70817693221328\n",
      "5.917890291884263e-07\n",
      "H0 is rejected\n"
     ]
    }
   ],
   "source": [
    "#D, E nova tabula bez okolia studenta , len 3 hodnoty\n",
    "\n",
    "alpha = 0.05\n",
    "\n",
    "m = 8\n",
    "q = 1\n",
    "k = m - q - 1\n",
    "\n",
    "# sum of first row\n",
    "\n",
    "sumForEveryRow = df2.sum(axis=1,numeric_only=True)\n",
    "print(sumForEveryRow)\n",
    "\n",
    "# create variable for p1, p2 in cycle\n",
    "\n",
    "# cycle trough list of sumForEveryRow\n",
    "x = [1,4] # zimny cas a nema nazor\n",
    "for i in x:\n",
    "    p = sumForEveryRow[i]/ sumForEveryRow[0]\n",
    "    print(p)\n",
    "    values = df.iloc[0].values\n",
    "\n",
    "    print(values)\n",
    "    # create list of expected values for every column\n",
    "\n",
    "    expectedValues = []\n",
    "    for j in range(1,9):\n",
    "        expectedValues.append(values[j] * p)\n",
    "    print(expectedValues)\n",
    "\n",
    "\n",
    "    T, p = stats.chisquare(f_obs = df.iloc[i].values[1:,], f_exp = expectedValues)\n",
    "\n",
    "    print(T)\n",
    "    print(p)\n",
    "    print('H0 is rejected' if p < alpha else 'H0 is not rejected')"
   ]
  },
  {
   "cell_type": "markdown",
   "metadata": {},
   "source": [
    "## F"
   ]
  },
  {
   "cell_type": "code",
   "execution_count": 86,
   "metadata": {},
   "outputs": [
    {
     "data": {
      "text/plain": [
       "' T1, p1 = stats.ttest_ind(df.iloc[1].values[1:], df.iloc[2].values[1:], equal_var=False)\\n\\nprint(T1,p1)\\nprint(\"najvacsi korelacia je medzi 3 miestami a okolim studenta\") '"
      ]
     },
     "execution_count": 86,
     "metadata": {},
     "output_type": "execute_result"
    }
   ],
   "source": [
    "# F pre rozdelenie 3 miest porovnanie s okolim studenta\n",
    "\n",
    "# T1, p1 = stats.ttest_ind(df[vetsi mesta], df[okolie studenta])\n",
    "\n",
    "''' T1, p1 = stats.ttest_ind(df.iloc[1].values[1:], df.iloc[2].values[1:], equal_var=False)\n",
    "\n",
    "print(T1,p1)\n",
    "print(\"najvacsi korelacia je medzi 3 miestami a okolim studenta\") '''"
   ]
  },
  {
   "cell_type": "markdown",
   "metadata": {},
   "source": [
    "# 2"
   ]
  },
  {
   "cell_type": "code",
   "execution_count": 87,
   "metadata": {},
   "outputs": [
    {
     "data": {
      "text/plain": [
       "' xi =\\n\\nyi = \\n\\nzi = \\n\\nF = np.column_stack((xi, yi, zi))\\n\\nF = sm.add_constant(F)\\n\\n\\n\\nmodel = sm.OLS(y, F).fit()\\nprint(model.summary()) '"
      ]
     },
     "execution_count": 87,
     "metadata": {},
     "output_type": "execute_result"
    }
   ],
   "source": [
    "\n",
    "''' xi =\n",
    "\n",
    "yi = \n",
    "\n",
    "zi = \n",
    "\n",
    "F = np.column_stack((xi, yi, zi))\n",
    "\n",
    "F = sm.add_constant(F)\n",
    "\n",
    "\n",
    "\n",
    "model = sm.OLS(y, F).fit()\n",
    "print(model.summary()) '''"
   ]
  }
 ],
 "metadata": {
  "kernelspec": {
   "display_name": "Python 3.9.13 ('base')",
   "language": "python",
   "name": "python3"
  },
  "language_info": {
   "codemirror_mode": {
    "name": "ipython",
    "version": 3
   },
   "file_extension": ".py",
   "mimetype": "text/x-python",
   "name": "python",
   "nbconvert_exporter": "python",
   "pygments_lexer": "ipython3",
   "version": "3.9.13"
  },
  "orig_nbformat": 4,
  "vscode": {
   "interpreter": {
    "hash": "52d9bec1bd0dd1d60d9f041927d73dc99a1ae836019e05c066f33f67e6a94d9c"
   }
  }
 },
 "nbformat": 4,
 "nbformat_minor": 2
}
