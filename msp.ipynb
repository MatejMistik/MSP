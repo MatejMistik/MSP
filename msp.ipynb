{
 "cells": [
  {
   "attachments": {},
   "cell_type": "markdown",
   "metadata": {},
   "source": [
    "# MSP projekt Matej Mištík"
   ]
  },
  {
   "cell_type": "code",
   "execution_count": 796,
   "metadata": {},
   "outputs": [],
   "source": [
    "import pandas as pd\n",
    "from scipy import stats\n",
    "\n",
    "pd.set_option('display.max_columns', 500)\n",
    "pd.set_option('display.width', 1000)\n",
    "\n",
    "df = pd.read_excel('./MSP_Projekt_2022-23_Zadani_St_8 (1).xlsx', sheet_name='Úkol 1')\n",
    "df = df.dropna()\n",
    "df = df.rename(columns={'Unnamed: 0': ''})\n",
    "df2 = df.copy() \n",
    "#\n",
    "# merge columns of Praha and Brno\n",
    "\n",
    "df2['Praha'] = df2['Praha'].astype(int)\n",
    "df2['Brno'] = df2['Brno'].astype(int)\n",
    "df2['Praha'] = df2['Praha'] + df2['Brno']\n",
    "df2 = df2.drop(columns=['Brno'])\n",
    "df2 = df2.rename(columns={'Praha': 'Vetsi_mesta'})\n",
    "\n",
    "# merge columns of Znojmo Tišnov\n",
    "\n",
    "df2['Znojmo'] = df2['Znojmo'].astype(int)\n",
    "df2['Tišnov'] = df2['Tišnov'].astype(int)\n",
    "df2['Znojmo'] = df2['Znojmo'] + df2['Tišnov']\n",
    "df2 = df2.drop(columns=['Tišnov'])\n",
    "df2 = df2.rename(columns={'Znojmo': 'Mala_mesta'})\n",
    "\n",
    "# merge forth, fifth, sixth column\n",
    "\n",
    "df2['Rokytnice nad Jizerou'] = df2['Rokytnice nad Jizerou'].astype(int)\n",
    "df2['Jablunkov'] = df2['Jablunkov'].astype(int)\n",
    "df2['Dolní Věstonice'] = df2['Dolní Věstonice'].astype(int)\n",
    "df2['Rokytnice nad Jizerou'] = df2['Rokytnice nad Jizerou'] + df2['Jablunkov'] + df2['Dolní Věstonice']\n",
    "df2 = df2.drop(columns=['Jablunkov', 'Dolní Věstonice'])\n",
    "df2 = df2.rename(columns={'Rokytnice nad Jizerou': 'obce'})"
   ]
  },
  {
   "cell_type": "code",
   "execution_count": 797,
   "metadata": {},
   "outputs": [
    {
     "name": "stdout",
     "output_type": "stream",
     "text": [
      "Datova sada, s ktorou budeme pracovať v ulohách 1a až 1c:\n"
     ]
    },
    {
     "data": {
      "text/html": [
       "<div>\n",
       "<style scoped>\n",
       "    .dataframe tbody tr th:only-of-type {\n",
       "        vertical-align: middle;\n",
       "    }\n",
       "\n",
       "    .dataframe tbody tr th {\n",
       "        vertical-align: top;\n",
       "    }\n",
       "\n",
       "    .dataframe thead th {\n",
       "        text-align: right;\n",
       "    }\n",
       "</style>\n",
       "<table border=\"1\" class=\"dataframe\">\n",
       "  <thead>\n",
       "    <tr style=\"text-align: right;\">\n",
       "      <th></th>\n",
       "      <th></th>\n",
       "      <th>Praha</th>\n",
       "      <th>Brno</th>\n",
       "      <th>Znojmo</th>\n",
       "      <th>Tišnov</th>\n",
       "      <th>Rokytnice nad Jizerou</th>\n",
       "      <th>Jablunkov</th>\n",
       "      <th>Dolní Věstonice</th>\n",
       "      <th>okolí studenta</th>\n",
       "    </tr>\n",
       "  </thead>\n",
       "  <tbody>\n",
       "    <tr>\n",
       "      <th>0</th>\n",
       "      <td>počet respondentů</td>\n",
       "      <td>1327.0</td>\n",
       "      <td>915.0</td>\n",
       "      <td>681.0</td>\n",
       "      <td>587.0</td>\n",
       "      <td>284.0</td>\n",
       "      <td>176.0</td>\n",
       "      <td>215.0</td>\n",
       "      <td>20.0</td>\n",
       "    </tr>\n",
       "    <tr>\n",
       "      <th>1</th>\n",
       "      <td>zimní čas</td>\n",
       "      <td>510.0</td>\n",
       "      <td>324.0</td>\n",
       "      <td>302.0</td>\n",
       "      <td>257.0</td>\n",
       "      <td>147.0</td>\n",
       "      <td>66.0</td>\n",
       "      <td>87.0</td>\n",
       "      <td>4.0</td>\n",
       "    </tr>\n",
       "    <tr>\n",
       "      <th>2</th>\n",
       "      <td>letní čas</td>\n",
       "      <td>352.0</td>\n",
       "      <td>284.0</td>\n",
       "      <td>185.0</td>\n",
       "      <td>178.0</td>\n",
       "      <td>87.0</td>\n",
       "      <td>58.0</td>\n",
       "      <td>65.0</td>\n",
       "      <td>9.0</td>\n",
       "    </tr>\n",
       "    <tr>\n",
       "      <th>3</th>\n",
       "      <td>střídání časů</td>\n",
       "      <td>257.0</td>\n",
       "      <td>178.0</td>\n",
       "      <td>124.0</td>\n",
       "      <td>78.0</td>\n",
       "      <td>44.0</td>\n",
       "      <td>33.0</td>\n",
       "      <td>31.0</td>\n",
       "      <td>4.0</td>\n",
       "    </tr>\n",
       "    <tr>\n",
       "      <th>4</th>\n",
       "      <td>nemá názor</td>\n",
       "      <td>208.0</td>\n",
       "      <td>129.0</td>\n",
       "      <td>70.0</td>\n",
       "      <td>74.0</td>\n",
       "      <td>6.0</td>\n",
       "      <td>19.0</td>\n",
       "      <td>32.0</td>\n",
       "      <td>2.0</td>\n",
       "    </tr>\n",
       "  </tbody>\n",
       "</table>\n",
       "</div>"
      ],
      "text/plain": [
       "                       Praha   Brno  Znojmo  Tišnov  Rokytnice nad Jizerou  Jablunkov  Dolní Věstonice  okolí studenta\n",
       "0  počet respondentů  1327.0  915.0   681.0   587.0                  284.0      176.0            215.0            20.0\n",
       "1          zimní čas   510.0  324.0   302.0   257.0                  147.0       66.0             87.0             4.0\n",
       "2          letní čas   352.0  284.0   185.0   178.0                   87.0       58.0             65.0             9.0\n",
       "3      střídání časů   257.0  178.0   124.0    78.0                   44.0       33.0             31.0             4.0\n",
       "4         nemá názor   208.0  129.0    70.0    74.0                    6.0       19.0             32.0             2.0"
      ]
     },
     "execution_count": 797,
     "metadata": {},
     "output_type": "execute_result"
    }
   ],
   "source": [
    "print('Datova sada, s ktorou budeme pracovať v ulohách 1a až 1c:')\n",
    "df"
   ]
  },
  {
   "cell_type": "code",
   "execution_count": 798,
   "metadata": {},
   "outputs": [
    {
     "name": "stdout",
     "output_type": "stream",
     "text": [
      "Datova sada, s ktorou budeme pracovať v ulohách 1d až 1f:\n"
     ]
    },
    {
     "data": {
      "text/html": [
       "<div>\n",
       "<style scoped>\n",
       "    .dataframe tbody tr th:only-of-type {\n",
       "        vertical-align: middle;\n",
       "    }\n",
       "\n",
       "    .dataframe tbody tr th {\n",
       "        vertical-align: top;\n",
       "    }\n",
       "\n",
       "    .dataframe thead th {\n",
       "        text-align: right;\n",
       "    }\n",
       "</style>\n",
       "<table border=\"1\" class=\"dataframe\">\n",
       "  <thead>\n",
       "    <tr style=\"text-align: right;\">\n",
       "      <th></th>\n",
       "      <th></th>\n",
       "      <th>Vetsi_mesta</th>\n",
       "      <th>Mala_mesta</th>\n",
       "      <th>obce</th>\n",
       "      <th>okolí studenta</th>\n",
       "    </tr>\n",
       "  </thead>\n",
       "  <tbody>\n",
       "    <tr>\n",
       "      <th>0</th>\n",
       "      <td>počet respondentů</td>\n",
       "      <td>2242</td>\n",
       "      <td>1268</td>\n",
       "      <td>675</td>\n",
       "      <td>20.0</td>\n",
       "    </tr>\n",
       "    <tr>\n",
       "      <th>1</th>\n",
       "      <td>zimní čas</td>\n",
       "      <td>834</td>\n",
       "      <td>559</td>\n",
       "      <td>300</td>\n",
       "      <td>4.0</td>\n",
       "    </tr>\n",
       "    <tr>\n",
       "      <th>2</th>\n",
       "      <td>letní čas</td>\n",
       "      <td>636</td>\n",
       "      <td>363</td>\n",
       "      <td>210</td>\n",
       "      <td>9.0</td>\n",
       "    </tr>\n",
       "    <tr>\n",
       "      <th>3</th>\n",
       "      <td>střídání časů</td>\n",
       "      <td>435</td>\n",
       "      <td>202</td>\n",
       "      <td>108</td>\n",
       "      <td>4.0</td>\n",
       "    </tr>\n",
       "    <tr>\n",
       "      <th>4</th>\n",
       "      <td>nemá názor</td>\n",
       "      <td>337</td>\n",
       "      <td>144</td>\n",
       "      <td>57</td>\n",
       "      <td>2.0</td>\n",
       "    </tr>\n",
       "  </tbody>\n",
       "</table>\n",
       "</div>"
      ],
      "text/plain": [
       "                      Vetsi_mesta  Mala_mesta  obce  okolí studenta\n",
       "0  počet respondentů         2242        1268   675            20.0\n",
       "1          zimní čas          834         559   300             4.0\n",
       "2          letní čas          636         363   210             9.0\n",
       "3      střídání časů          435         202   108             4.0\n",
       "4         nemá názor          337         144    57             2.0"
      ]
     },
     "execution_count": 798,
     "metadata": {},
     "output_type": "execute_result"
    }
   ],
   "source": [
    "print('Datova sada, s ktorou budeme pracovať v ulohách 1d až 1f:')\n",
    "df2"
   ]
  },
  {
   "cell_type": "markdown",
   "metadata": {},
   "source": [
    "# BOD 1"
   ]
  },
  {
   "attachments": {},
   "cell_type": "markdown",
   "metadata": {},
   "source": [
    "## Hypotézy\n",
    "\n",
    "### 1.a\n",
    "\n",
    "H0 : percentuálne zastúpenie obyvateľov pre zimný čas je rovnaký pre vsetky mesta\n",
    "H1 : percentuálne zastúpenie obyvateľov pre zimný čas je rôzny pre vsetky mesta\n",
    "\n",
    "### 1.b\n",
    "\n",
    "H0 : percentuálne zastúpenie obyvateľov pre letný čas je rovnaký pre všetky mestá\n",
    "H1 : percentuálne zastúpenie obyvateľov pre letný čas je rôzny pre všetky mestá\n",
    "\n",
    "### 1.c\n",
    "\n",
    "H0 : percentuálne zastúpenie obyvateľov pre striedanie časov je rovnaký pre všetky mestá\n",
    "H1 : percentuálne zastúpenie obyvateľov pre striedanie časov je rôzny pre všetky mestá"
   ]
  },
  {
   "cell_type": "code",
   "execution_count": 799,
   "metadata": {},
   "outputs": [
    {
     "name": "stdout",
     "output_type": "stream",
     "text": [
      "SUM of every row:\n",
      "0    4205.0\n",
      "1    1697.0\n",
      "2    1218.0\n",
      "3     749.0\n",
      "4     540.0\n",
      "dtype: float64\n",
      "------------------------------------\n",
      "Option: A\n",
      "probability: 0.4035671819262782\n",
      "Observed frequencies in each category: [1327.0 915.0 681.0 587.0 284.0 176.0 215.0 20.0]\n",
      "Expected frequencies in each category: [535.5336504161712, 369.2639714625446, 274.8292508917955, 236.89393579072532, 114.61307966706302, 71.02782401902496, 86.76694411414982, 8.071343638525564]\n",
      "chisq: 22.720476798835556\n",
      "The p-value of the test: 0.0008957117744714648\n",
      "H0 is rejected\n",
      "------------------------------------\n",
      "Option: B\n",
      "probability: 0.2896551724137931\n",
      "Observed frequencies in each category: [1327.0 915.0 681.0 587.0 284.0 176.0 215.0 20.0]\n",
      "Expected frequencies in each category: [384.3724137931035, 265.0344827586207, 197.25517241379313, 170.02758620689656, 82.26206896551724, 50.97931034482759, 62.27586206896552, 5.793103448275863]\n",
      "chisq: 8.3529705718337\n",
      "The p-value of the test: 0.2133672661064076\n",
      "H0 is not rejected\n",
      "------------------------------------\n",
      "Option: C\n",
      "probability: 0.17812128418549347\n",
      "Observed frequencies in each category: [1327.0 915.0 681.0 587.0 284.0 176.0 215.0 20.0]\n",
      "Expected frequencies in each category: [236.36694411414985, 162.98097502972652, 121.30059453032105, 104.55719381688466, 50.58644470868015, 31.34934601664685, 38.2960760998811, 3.5624256837098693]\n",
      "chisq: 12.378916461699824\n",
      "The p-value of the test: 0.05403021733299772\n",
      "H0 is not rejected\n",
      "------------------------------------\n"
     ]
    }
   ],
   "source": [
    "# A - zimny, B - letny , C - striedanie casov\n",
    "\n",
    "alpha = 0.05\n",
    "\n",
    "# sum of first row\n",
    "\n",
    "sumForEveryRow = df.sum(axis=1,numeric_only=True)\n",
    "print('SUM of every row:')\n",
    "print(sumForEveryRow)\n",
    "print('------------------------------------')\n",
    "\n",
    "# create variable for p1, p2 in cycle\n",
    "\n",
    "# cycle trough list of sumForEveryRow\n",
    "optionsList = ['A','B','C']\n",
    "for i in range(1,4):\n",
    "    print('Option:',optionsList[i-1])\n",
    "    p = sumForEveryRow[i]/ sumForEveryRow[0]\n",
    "    print('probability:',p)\n",
    "    values = df.iloc[0,1:].values\n",
    "\n",
    "    print('Observed frequencies in each category:',values)\n",
    "    # create list of expected values for every column\n",
    "\n",
    "    expectedValues = []\n",
    "    for j in range(0,8):\n",
    "        expectedValues.append(values[j] * p)\n",
    "    print('Expected frequencies in each category:',expectedValues)\n",
    "\n",
    "\n",
    "    T, p = stats.chisquare(f_obs = df.iloc[i].values[1:,], f_exp = expectedValues,ddof=1)\n",
    "    \n",
    "    print('chisq:',T)\n",
    "    print('The p-value of the test:',p)\n",
    "    print('H0 is rejected' if p < alpha else 'H0 is not rejected')\n",
    "    print('------------------------------------')"
   ]
  },
  {
   "attachments": {},
   "cell_type": "markdown",
   "metadata": {},
   "source": [
    "## Vyhotovenie Hypotéz\n",
    "\n",
    "### 1.a\n",
    "H0 : percentuálne zastúpenie obyvateľov pre zimný čas je rovnaký pre všetky mestá - zamieta sa\n",
    "\n",
    "### 1.b\n",
    "\n",
    "H0 : percentuálne zastúpenie obyvateľov pre letný čas je rovnaký pre všetky mestá - nezamieta sa\n",
    "\n",
    "### 1.c\n",
    "\n",
    "H0 : percentuálne zastúpenie obyvateľov pre striedanie časov je rovnaký pre všetky mestá - nezamieta sa\n"
   ]
  },
  {
   "attachments": {},
   "cell_type": "markdown",
   "metadata": {},
   "source": [
    "## Hypotézy D, E\n",
    "\n",
    "### 1.d\n",
    "\n",
    "H0 : percentuálne zastúpenie obyvateľov pre zimný čas je rovnaký pre vsetky zastúpenie miest\n",
    "H1 : percentuálne zastúpenie obyvateľov pre zimný čas je rôzny pre vsetky zastúpenie miest\n",
    "\n",
    "### 1.e\n",
    "\n",
    "H0 : percentuálne zastúpenie nerozhodnutných obyvateľov je rovnaký pre všetky zastúpenie miest\n",
    "H1 : percentuálne zastúpenie nerozhodnutných obyvateľov je rôzny pre všetky zastúpenie miest"
   ]
  },
  {
   "cell_type": "code",
   "execution_count": 800,
   "metadata": {},
   "outputs": [
    {
     "name": "stdout",
     "output_type": "stream",
     "text": [
      "SUM of every row:\n",
      "0    4205.0\n",
      "1    1697.0\n",
      "2    1218.0\n",
      "3     749.0\n",
      "4     540.0\n",
      "dtype: float64\n",
      "------------------------------------\n",
      "Option: D\n",
      "probability: 0.4035671819262782\n",
      "Observed frequencies in each category: [1327.0 915.0 681.0 587.0 284.0 176.0 215.0 20.0]\n",
      "Expected frequencies in each category: [535.5336504161712, 369.2639714625446, 274.8292508917955, 236.89393579072532, 114.61307966706302, 71.02782401902496, 86.76694411414982, 8.071343638525564]\n",
      "chisq: 22.720476798835556\n",
      "The p-value of the test: 0.0008957117744714648\n",
      "H0 is rejected\n",
      "------------------------------------\n",
      "Option: E\n",
      "probability: 0.12841854934601665\n",
      "Observed frequencies in each category: [1327.0 915.0 681.0 587.0 284.0 176.0 215.0 20.0]\n",
      "Expected frequencies in each category: [170.4114149821641, 117.50297265160523, 87.45303210463734, 75.38168846611177, 36.47086801426873, 22.60166468489893, 27.60998810939358, 2.568370986920333]\n",
      "chisq: 39.78016680405891\n",
      "The p-value of the test: 5.031424182862881e-07\n",
      "H0 is rejected\n",
      "------------------------------------\n"
     ]
    }
   ],
   "source": [
    "#D, E nova tabula bez okolia studenta , len 3 hodnoty\n",
    "\n",
    "# sum of first row\n",
    "\n",
    "sumForEveryRow = df2.sum(axis=1,numeric_only=True)\n",
    "print('SUM of every row:')\n",
    "print(sumForEveryRow)\n",
    "print('------------------------------------')\n",
    "\n",
    "# create variable for p1, p2 in cycle\n",
    "\n",
    "# cycle trough list of sumForEveryRow\n",
    "x = [1,4] # zimny cas a nema nazor\n",
    "optionsList = ['D','','','E']\n",
    "for i in x:\n",
    "    print('Option:',optionsList[i-1])\n",
    "    p = sumForEveryRow[i]/ sumForEveryRow[0]\n",
    "    print('probability:',p)\n",
    "    values = df.iloc[0,1:].values\n",
    "\n",
    "    print('Observed frequencies in each category:',values)\n",
    "    # create list of expected values for every column\n",
    "\n",
    "    expectedValues = []\n",
    "    for j in range(0,8):\n",
    "        expectedValues.append(values[j] * p)\n",
    "    print('Expected frequencies in each category:',expectedValues)\n",
    "\n",
    "\n",
    "    T, p = stats.chisquare(f_obs = df.iloc[i].values[1:,], f_exp = expectedValues,ddof=1)\n",
    "    \n",
    "    print('chisq:',T)\n",
    "    print('The p-value of the test:',p)\n",
    "    print('H0 is rejected' if p < alpha else 'H0 is not rejected')\n",
    "    print('------------------------------------')"
   ]
  },
  {
   "attachments": {},
   "cell_type": "markdown",
   "metadata": {},
   "source": [
    "## Vyhodnotenie Hypotéz\n",
    "\n",
    "### 1.d\n",
    "\n",
    "H0 : percentuálne zastúpenie obyvateľov pre zimný čas je rovnaký pre vsetky zastúpenie miest - zamieta sa\n",
    "\n",
    "### 1.e\n",
    "\n",
    "H0 : percentuálne zastúpenie nerozhodnutných obyvateľov je rovnaký pre všetky zastúpenie miest - zamieta sa\n"
   ]
  },
  {
   "attachments": {},
   "cell_type": "markdown",
   "metadata": {},
   "source": [
    "## Hypotéza F pre alfa = 0.1\n",
    "\n",
    "### 1.f\n",
    "\n",
    "H0 : Okolie študenta je podobné veľkým mestám\n",
    "H1 : Okolie študenta je podobné malým mestám\n",
    "H2 : Okolie študenta je podobné obciam\n"
   ]
  },
  {
   "cell_type": "code",
   "execution_count": 801,
   "metadata": {},
   "outputs": [
    {
     "data": {
      "text/html": [
       "<div>\n",
       "<style scoped>\n",
       "    .dataframe tbody tr th:only-of-type {\n",
       "        vertical-align: middle;\n",
       "    }\n",
       "\n",
       "    .dataframe tbody tr th {\n",
       "        vertical-align: top;\n",
       "    }\n",
       "\n",
       "    .dataframe thead th {\n",
       "        text-align: right;\n",
       "    }\n",
       "</style>\n",
       "<table border=\"1\" class=\"dataframe\">\n",
       "  <thead>\n",
       "    <tr style=\"text-align: right;\">\n",
       "      <th></th>\n",
       "      <th></th>\n",
       "      <th>Vetsi_mesta</th>\n",
       "      <th>Mala_mesta</th>\n",
       "      <th>obce</th>\n",
       "      <th>okolí studenta</th>\n",
       "    </tr>\n",
       "  </thead>\n",
       "  <tbody>\n",
       "    <tr>\n",
       "      <th>0</th>\n",
       "      <td>počet respondentů</td>\n",
       "      <td>2242</td>\n",
       "      <td>1268</td>\n",
       "      <td>675</td>\n",
       "      <td>20.0</td>\n",
       "    </tr>\n",
       "    <tr>\n",
       "      <th>1</th>\n",
       "      <td>zimní čas</td>\n",
       "      <td>834</td>\n",
       "      <td>559</td>\n",
       "      <td>300</td>\n",
       "      <td>4.0</td>\n",
       "    </tr>\n",
       "    <tr>\n",
       "      <th>2</th>\n",
       "      <td>letní čas</td>\n",
       "      <td>636</td>\n",
       "      <td>363</td>\n",
       "      <td>210</td>\n",
       "      <td>9.0</td>\n",
       "    </tr>\n",
       "    <tr>\n",
       "      <th>3</th>\n",
       "      <td>střídání časů</td>\n",
       "      <td>435</td>\n",
       "      <td>202</td>\n",
       "      <td>108</td>\n",
       "      <td>4.0</td>\n",
       "    </tr>\n",
       "    <tr>\n",
       "      <th>4</th>\n",
       "      <td>nemá názor</td>\n",
       "      <td>337</td>\n",
       "      <td>144</td>\n",
       "      <td>57</td>\n",
       "      <td>2.0</td>\n",
       "    </tr>\n",
       "  </tbody>\n",
       "</table>\n",
       "</div>"
      ],
      "text/plain": [
       "                      Vetsi_mesta  Mala_mesta  obce  okolí studenta\n",
       "0  počet respondentů         2242        1268   675            20.0\n",
       "1          zimní čas          834         559   300             4.0\n",
       "2          letní čas          636         363   210             9.0\n",
       "3      střídání časů          435         202   108             4.0\n",
       "4         nemá názor          337         144    57             2.0"
      ]
     },
     "execution_count": 801,
     "metadata": {},
     "output_type": "execute_result"
    }
   ],
   "source": [
    "df2"
   ]
  },
  {
   "cell_type": "code",
   "execution_count": 802,
   "metadata": {},
   "outputs": [
    {
     "name": "stdout",
     "output_type": "stream",
     "text": [
      "SUM of every row:\n",
      "0    4205.0\n",
      "1    1697.0\n",
      "2    1218.0\n",
      "3     749.0\n",
      "4     540.0\n",
      "dtype: float64\n",
      "------------------------------------\n",
      "probability: 0.4035671819262782\n",
      "[1327.0 915.0 681.0 587.0 284.0 176.0 215.0 20.0]\n",
      "[535.5336504161712, 369.2639714625446, 274.8292508917955, 236.89393579072532, 114.61307966706302, 71.02782401902496, 86.76694411414982, 8.071343638525564]\n",
      "chisq: 22.720476798835556\n",
      "The p-value of the test: 0.0008957117744714648\n",
      "H1 is rejected\n",
      "------------------------------------\n",
      "probability: 0.2896551724137931\n",
      "[1327.0 915.0 681.0 587.0 284.0 176.0 215.0 20.0]\n",
      "[384.3724137931035, 265.0344827586207, 197.25517241379313, 170.02758620689656, 82.26206896551724, 50.97931034482759, 62.27586206896552, 5.793103448275863]\n",
      "chisq: 8.3529705718337\n",
      "The p-value of the test: 0.2133672661064076\n",
      "H2 is not rejected\n",
      "------------------------------------\n",
      "probability: 0.17812128418549347\n",
      "[1327.0 915.0 681.0 587.0 284.0 176.0 215.0 20.0]\n",
      "[236.36694411414985, 162.98097502972652, 121.30059453032105, 104.55719381688466, 50.58644470868015, 31.34934601664685, 38.2960760998811, 3.5624256837098693]\n",
      "chisq: 12.378916461699824\n",
      "The p-value of the test: 0.05403021733299772\n",
      "H3 is rejected\n",
      "------------------------------------\n"
     ]
    }
   ],
   "source": [
    "sumForEveryRow = df2.sum(axis=1,numeric_only=True)\n",
    "print('SUM of every row:')\n",
    "print(sumForEveryRow)\n",
    "print('------------------------------------')\n",
    "\n",
    "# create variable for p1, p2 in cycle\n",
    "\n",
    "# cycle trough list of sumForEveryRow\n",
    "alpha = 0.1\n",
    "for i in range(1,4):\n",
    "    p = sumForEveryRow[i]/ sumForEveryRow[0]\n",
    "    print('probability:',p)\n",
    "    values = df.iloc[0,1:].values\n",
    "\n",
    "    print(values)\n",
    "    # create list of expected values for every column\n",
    "\n",
    "    expectedValues = []\n",
    "    for j in range(0,8):\n",
    "        expectedValues.append(values[j] * p)\n",
    "    print(expectedValues)\n",
    "\n",
    "\n",
    "    T, p = stats.chisquare(f_obs = df.iloc[i].values[1:,], f_exp = expectedValues,ddof=1)\n",
    "    \n",
    "    print('chisq:',T)\n",
    "    print('The p-value of the test:',p)\n",
    "    print('H{} is rejected'.format(i) if p < alpha else 'H{} is not rejected'.format(i))\n",
    "    print('------------------------------------')"
   ]
  },
  {
   "attachments": {},
   "cell_type": "markdown",
   "metadata": {},
   "source": [
    "## Vyhodnotenie Hypotézy F\n",
    "\n",
    "### 1.f\n",
    "\n",
    "H0 : Okolie študenta je podobné veľkým mestám - zamieta sa\n",
    "H1 : Okolie študenta je podobné malým mestám - nezamieta sa\n",
    "H2 : Okolie študenta je podobné obciam - zamieta sa\n",
    "\n",
    "Okolie študenta je **podobné malým mestám**"
   ]
  },
  {
   "attachments": {},
   "cell_type": "markdown",
   "metadata": {},
   "source": [
    "# BOD 2"
   ]
  },
  {
   "cell_type": "code",
   "execution_count": 803,
   "metadata": {},
   "outputs": [],
   "source": [
    "import numpy as np\n",
    "from sklearn.linear_model import LinearRegression\n",
    "from sklearn.preprocessing import PolynomialFeatures\n",
    "import matplotlib.pyplot as plt\n",
    "from mpl_toolkits.mplot3d import Axes3D\n",
    "import statsmodels.api as sm\n",
    "import scipy.stats as stats\n",
    "from statsmodels.formula.api import ols\n",
    "\n",
    "data = pd.read_excel('./MSP_Projekt_2022-23_Zadani_St_8 (1).xlsx', sheet_name='Úkol 2 - Data')\n",
    "xi = np.array(pd.DataFrame(data, columns=['xi']))\n",
    "yi = np.array(pd.DataFrame(data,columns=['yi']))\n",
    "zi = np.array(pd.DataFrame(data,columns=['zi']))\n",
    "xi = xi.ravel()\n",
    "yi = yi.ravel()\n",
    "zi = zi.ravel()"
   ]
  },
  {
   "attachments": {},
   "cell_type": "markdown",
   "metadata": {},
   "source": [
    "## 2.a\n",
    "\n",
    "### Určenie vhodného modelu"
   ]
  },
  {
   "cell_type": "code",
   "execution_count": 804,
   "metadata": {},
   "outputs": [
    {
     "name": "stdout",
     "output_type": "stream",
     "text": [
      "                   sum_sq    df         F    PR(>F)\n",
      "yi            7055.714163   1.0  0.717120  0.400246\n",
      "I(yi ** 2)   25369.316298   1.0  2.578454  0.113251\n",
      "xi           10197.367669   1.0  1.036427  0.312487\n",
      "I(xi ** 2)   32371.389818   1.0  3.290122  0.074386\n",
      "xi:yi         8469.528042   1.0  0.860815  0.356997\n",
      "Residual    629693.666965  64.0       NaN       NaN\n",
      "                            OLS Regression Results                            \n",
      "==============================================================================\n",
      "Dep. Variable:                     zi   R-squared:                       0.580\n",
      "Model:                            OLS   Adj. R-squared:                  0.547\n",
      "Method:                 Least Squares   F-statistic:                     17.64\n",
      "Date:                Sat, 10 Dec 2022   Prob (F-statistic):           6.00e-11\n",
      "Time:                        16:07:08   Log-Likelihood:                -417.98\n",
      "No. Observations:                  70   AIC:                             848.0\n",
      "Df Residuals:                      64   BIC:                             861.5\n",
      "Df Model:                           5                                         \n",
      "Covariance Type:            nonrobust                                         \n",
      "==============================================================================\n",
      "                 coef    std err          t      P>|t|      [0.025      0.975]\n",
      "------------------------------------------------------------------------------\n",
      "Intercept     32.7964     47.479      0.691      0.492     -62.053     127.646\n",
      "yi           -16.0296     13.982     -1.146      0.256     -43.962      11.903\n",
      "I(yi ** 2)    -1.9784      1.232     -1.606      0.113      -4.440       0.483\n",
      "xi            -9.5729      7.408     -1.292      0.201     -24.372       5.226\n",
      "I(xi ** 2)     0.5993      0.330      1.814      0.074      -0.061       1.259\n",
      "xi:yi          0.5170      0.557      0.928      0.357      -0.596       1.630\n",
      "==============================================================================\n",
      "Omnibus:                        1.449   Durbin-Watson:                   2.122\n",
      "Prob(Omnibus):                  0.485   Jarque-Bera (JB):                1.473\n",
      "Skew:                          -0.283   Prob(JB):                        0.479\n",
      "Kurtosis:                       2.571   Cond. No.                         839.\n",
      "==============================================================================\n",
      "\n",
      "Notes:\n",
      "[1] Standard Errors assume that the covariance matrix of the errors is correctly specified.\n",
      "H0 is not rejected\n",
      "H1 is not rejected\n",
      "H2 is not rejected\n",
      "H3 is not rejected\n",
      "H4 is not rejected\n",
      "H5 is not rejected\n"
     ]
    }
   ],
   "source": [
    "#ANOVA\n",
    "model = ols('zi ~ yi + I(yi**2) + xi + I(xi**2) + (xi*yi)',data = data).fit()\n",
    "at = sm.stats.anova_lm(model,typ=2)\n",
    "print(at)\n",
    "print(model.summary())\n",
    "model.pvalues\n",
    "for i in range(0,6):\n",
    "    print('H{} is rejected'.format(i) if model.pvalues[i] < 0.05 else 'H{} is not rejected'.format(i))"
   ]
  },
  {
   "attachments": {},
   "cell_type": "markdown",
   "metadata": {},
   "source": [
    "## Zjednodušenie na submodel odobratím dvoch najväčších hodnôt na základe hypotéz"
   ]
  },
  {
   "attachments": {},
   "cell_type": "markdown",
   "metadata": {},
   "source": [
    "Pre nasledovný submodel vyšiel R-squared najlepšie a bol vybraný ako submodel pre nasledovné úlohy"
   ]
  },
  {
   "cell_type": "code",
   "execution_count": 807,
   "metadata": {},
   "outputs": [
    {
     "name": "stdout",
     "output_type": "stream",
     "text": [
      "                            OLS Regression Results                            \n",
      "==============================================================================\n",
      "Dep. Variable:                      y   R-squared:                       0.569\n",
      "Model:                            OLS   Adj. R-squared:                  0.550\n",
      "Method:                 Least Squares   F-statistic:                     29.06\n",
      "Date:                Sat, 10 Dec 2022   Prob (F-statistic):           4.29e-12\n",
      "Time:                        16:07:09   Log-Likelihood:                -418.84\n",
      "No. Observations:                  70   AIC:                             845.7\n",
      "Df Residuals:                      66   BIC:                             854.7\n",
      "Df Model:                           3                                         \n",
      "Covariance Type:            nonrobust                                         \n",
      "==============================================================================\n",
      "                 coef    std err          t      P>|t|      [0.025      0.975]\n",
      "------------------------------------------------------------------------------\n",
      "const        -11.1528     31.853     -0.350      0.727     -74.750      52.444\n",
      "x1             0.5993      0.329      1.820      0.073      -0.058       1.257\n",
      "x2            -2.9808      0.341     -8.751      0.000      -3.661      -2.301\n",
      "x3            -6.9879      6.842     -1.021      0.311     -20.648       6.673\n",
      "==============================================================================\n",
      "Omnibus:                        1.526   Durbin-Watson:                   2.109\n",
      "Prob(Omnibus):                  0.466   Jarque-Bera (JB):                1.526\n",
      "Skew:                          -0.334   Prob(JB):                        0.466\n",
      "Kurtosis:                       2.720   Cond. No.                         534.\n",
      "==============================================================================\n",
      "\n",
      "Notes:\n",
      "[1] Standard Errors assume that the covariance matrix of the errors is correctly specified.\n"
     ]
    }
   ],
   "source": [
    "# odhad regresnich parametru je u koeficinetu posledni dva sloupce.\n",
    "F = np.column_stack((xi**2, yi**2,xi))\n",
    "F = sm.add_constant(F)\n",
    "y = zi\n",
    "model = sm.OLS(y, F).fit()\n",
    "print(model.summary())\n",
    "chosen_model = model\n",
    "koefs = model.params"
   ]
  },
  {
   "attachments": {},
   "cell_type": "markdown",
   "metadata": {},
   "source": [
    "## 2.b\n",
    "\n",
    "### Intervalové odhady\n",
    "\n",
    "| [0.025  | 0.975]| \n",
    "|---------|-------|\n",
    "| -74.750 | 52.444| \n",
    "| -0.058  | 1.257 |\n",
    "| -3.661  | -2.301|\n",
    "| -20.648 | 6.673 |"
   ]
  },
  {
   "cell_type": "code",
   "execution_count": 808,
   "metadata": {},
   "outputs": [
    {
     "data": {
      "image/png": "[encoded data removed]",
      "text/plain": [
       "<Figure size 640x480 with 1 Axes>"
      ]
     },
     "metadata": {},
     "output_type": "display_data"
    }
   ],
   "source": [
    "XY = np.vstack((xi, yi)).T\n",
    "fig = plt.figure()\n",
    "ax = fig.add_subplot(111, projection='3d')\n",
    "ax.scatter(xi, yi, zi, marker='.', color='red')\n",
    "ax.set_xlabel(\"x\")\n",
    "ax.set_ylabel(\"y\")\n",
    "ax.set_zlabel(\"z\")\n",
    "poly = PolynomialFeatures(degree=2, include_bias=False)\n",
    "X_poly = poly.fit_transform(XY)\n",
    "model = LinearRegression()\n",
    "model.fit(X_poly, zi)\n",
    "xs = np.tile(np.arange(20), (20,1))\n",
    "ys = np.tile(np.arange(20), (20,1)).T\n",
    "zs = xs**2*koefs[1]+ys**2*koefs[2]+xs*ys*koefs[3]+koefs[0]\n",
    "ax.plot_surface(xs,ys,zs, alpha=0.5)\n",
    "plt.show()"
   ]
  },
  {
   "attachments": {},
   "cell_type": "markdown",
   "metadata": {},
   "source": [
    "## Nestranne odhadovaný rozptyl závislej premennej\n",
    "\n",
    "### 2.c\n"
   ]
  },
  {
   "cell_type": "code",
   "execution_count": 809,
   "metadata": {},
   "outputs": [
    {
     "name": "stdout",
     "output_type": "stream",
     "text": [
      "nestranny odhadovany rozptyl: 9776.04407832675\n"
     ]
    }
   ],
   "source": [
    "print('nestranny odhadovany rozptyl:',chosen_model.mse_resid)"
   ]
  },
  {
   "attachments": {},
   "cell_type": "markdown",
   "metadata": {},
   "source": [
    "## Hypotéza D pre alfa = 0.05\n",
    "\n",
    "### 2.d\n",
    "\n",
    "H0: x1 = 0 a x2 = 0\n",
    "\n",
    "H1: x1 != 0 alebo x2 != 0"
   ]
  },
  {
   "cell_type": "code",
   "execution_count": 810,
   "metadata": {},
   "outputs": [
    {
     "name": "stdout",
     "output_type": "stream",
     "text": [
      "Konstanta:  -11.152794372294245\n",
      "xi**2:  0.5992937094155928\n",
      "yi**2:  -2.980840219780214\n",
      "xi*yi:  -6.987893668831333\n",
      "d.) <F test: F=39.947105132543214, p=4.282466514301482e-12, df_denom=66, df_num=2>\n",
      "p-value: 4.282466514301482e-12\n",
      "H0 is rejected\n"
     ]
    }
   ],
   "source": [
    "#d.) test na nulovost koeficientu\n",
    "print('Konstanta: ',koefs[0])\n",
    "print('xi**2: ',koefs[1]) # xi**2\n",
    "print('yi**2: ',koefs[2]) # yi**2\n",
    "print('xi*yi: ',koefs[3]) # xi*yi\n",
    "h = 'x1 = 0 , x2 = 0'\n",
    "F_test = chosen_model.f_test(h)\n",
    "print('d.)',F_test)\n",
    "print('p-value:',F_test.pvalue)\n",
    "print('H0 is rejected' if F_test.pvalue < alpha else 'H0 is not rejected')"
   ]
  },
  {
   "attachments": {},
   "cell_type": "markdown",
   "metadata": {},
   "source": [
    "## Hypotéza D pre alfa = 0.05\n",
    "\n",
    "### 2.d\n",
    "\n",
    "H0: x1 = 0 a x2 = 0 - zamieta sa"
   ]
  },
  {
   "attachments": {},
   "cell_type": "markdown",
   "metadata": {},
   "source": [
    "## Hypotéza E pre alfa = 0.05\n",
    "\n",
    "### 2.e\n",
    "\n",
    "H0: x1 = x2\n",
    "\n",
    "H1: x1 != x2"
   ]
  },
  {
   "cell_type": "code",
   "execution_count": 811,
   "metadata": {},
   "outputs": [
    {
     "name": "stdout",
     "output_type": "stream",
     "text": [
      "e.)                              Test for Constraints                             \n",
      "==============================================================================\n",
      "                 coef    std err          t      P>|t|      [0.025      0.975]\n",
      "------------------------------------------------------------------------------\n",
      "c0             3.5801      0.474      7.556      0.000       2.634       4.526\n",
      "==============================================================================\n",
      "p-value:  1.648517238113275e-10\n",
      "H0 is rejected\n"
     ]
    }
   ],
   "source": [
    "#e.) test na rovnost koeficientu\n",
    "h2 = 'x1 = x2'\n",
    "T_test = chosen_model.t_test(h2,use_t=True)\n",
    "print('e.)',T_test)\n",
    "T_test.pvalue\n",
    "print('p-value: ',T_test.pvalue)\n",
    "print('H0 is rejected' if T_test.pvalue < 0.05 else 'H0 is not rejected')"
   ]
  },
  {
   "attachments": {},
   "cell_type": "markdown",
   "metadata": {},
   "source": [
    "## Hypotéza E pre alfa = 0.05\n",
    "\n",
    "### 2.e\n",
    "\n",
    "H0: x1 = x2 - zamieta sa"
   ]
  }
 ],
 "metadata": {
  "kernelspec": {
   "display_name": "Python 3.9.13 ('base')",
   "language": "python",
   "name": "python3"
  },
  "language_info": {
   "codemirror_mode": {
    "name": "ipython",
    "version": 3
   },
   "file_extension": ".py",
   "mimetype": "text/x-python",
   "name": "python",
   "nbconvert_exporter": "python",
   "pygments_lexer": "ipython3",
   "version": "3.9.13"
  },
  "orig_nbformat": 4,
  "vscode": {
   "interpreter": {
    "hash": "d7288e82646d3164eca24130947288f8779d11454649f2c02a5dfc42af7f324c"
   }
  }
 },
 "nbformat": 4,
 "nbformat_minor": 2
}
